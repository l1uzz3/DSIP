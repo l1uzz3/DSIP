{
 "cells": [
  {
   "metadata": {},
   "cell_type": "markdown",
   "source": [
    "#### 01-linearregression\n",
    "\n",
    "Implement a linear model for predicting the amount of the tip\n",
    "(tip) for a restaurant meal according to problem 7.1 Tips, pp 153."
   ],
   "id": "d5ceeecae7daf889"
  },
  {
   "metadata": {},
   "cell_type": "code",
   "outputs": [],
   "execution_count": null,
   "source": "# code",
   "id": "a48482af905183ed"
  },
  {
   "metadata": {},
   "cell_type": "markdown",
   "source": [
    "#### 02-logisticregression \n",
    "\n",
    "Apply a logistic regression model for discriminating between a\n",
    "rock and a classical song (type) according to problem 7.12 Music,\n",
    "pp. 171."
   ],
   "id": "9b7a3911cc8eee9c"
  },
  {
   "metadata": {},
   "cell_type": "code",
   "outputs": [],
   "execution_count": null,
   "source": "# code",
   "id": "2533330bfbe0167e"
  },
  {
   "metadata": {},
   "cell_type": "markdown",
   "source": [
    "#### 03-LinR_LogR\n",
    "\n",
    "Choose a data set of interest and apply **either** a linear\n",
    "**or** a logistic regression model."
   ],
   "id": "a1be92573f7305e2"
  },
  {
   "metadata": {},
   "cell_type": "code",
   "outputs": [],
   "execution_count": null,
   "source": "# code",
   "id": "7a7078ec7c111366"
  }
 ],
 "metadata": {
  "kernelspec": {
   "display_name": "Python 3",
   "language": "python",
   "name": "python3"
  },
  "language_info": {
   "codemirror_mode": {
    "name": "ipython",
    "version": 2
   },
   "file_extension": ".py",
   "mimetype": "text/x-python",
   "name": "python",
   "nbconvert_exporter": "python",
   "pygments_lexer": "ipython2",
   "version": "2.7.6"
  }
 },
 "nbformat": 4,
 "nbformat_minor": 5
}
