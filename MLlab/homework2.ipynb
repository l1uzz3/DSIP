{
 "cells": [
  {
   "metadata": {},
   "cell_type": "markdown",
   "source": [
    "#### 01-linearregression\n",
    "\n",
    "Implement a linear model for predicting the amount of the tip\n",
    "(tip) for a restaurant meal according to problem 7.1 Tips, pp 153."
   ],
   "id": "d5ceeecae7daf889"
  },
  {
   "metadata": {},
   "cell_type": "code",
   "outputs": [],
   "execution_count": null,
   "source": "",
   "id": "6b0bde8851762aa6"
  },
  {
   "metadata": {},
   "cell_type": "markdown",
   "source": [
    "#### 02-logisticregression \n",
    "\n",
    "Apply a logistic regression model for discriminating between a\n",
    "rock and a classical song (type) according to problem 7.12 Music,\n",
    "pp. 171."
   ],
   "id": "9b7a3911cc8eee9c"
  },
  {
   "metadata": {
    "ExecuteTime": {
     "end_time": "2024-10-17T12:32:00.502064Z",
     "start_time": "2024-10-17T12:32:00.496981Z"
    }
   },
   "cell_type": "code",
   "source": [
    "# importing libraries \n",
    "\n",
    "import pandas as pd\n",
    "from sklearn.model_selection import train_test_split\n",
    "from sklearn.linear_model import LogisticRegression\n",
    "from sklearn.metrics import accuracy_score, confusion_matrix\n"
   ],
   "id": "2533330bfbe0167e",
   "outputs": [],
   "execution_count": 54
  },
  {
   "metadata": {
    "ExecuteTime": {
     "end_time": "2024-10-17T12:32:01.955352Z",
     "start_time": "2024-10-17T12:32:01.943689Z"
    }
   },
   "cell_type": "code",
   "source": [
    "# loading file\n",
    "file_path = 'music-sub.csv'\n",
    "df = pd.DataFrame(pd.read_csv(file_path))\n",
    "df.head()"
   ],
   "id": "d1c1537175d4e3a5",
   "outputs": [
    {
     "data": {
      "text/plain": [
       "      Unnamed: 0 Artist  Type        LVar       LAve   LMax     LFEner  \\\n",
       "0  Dancing Queen   Abba  Rock  17600755.6 -90.006867  29921  105.92095   \n",
       "1     Knowing Me   Abba  Rock   9543020.9 -75.766719  27626  102.83616   \n",
       "2  Take a Chance   Abba  Rock   9049481.5 -98.062924  26372  102.32488   \n",
       "3      Mamma Mia   Abba  Rock   7557437.3 -90.471062  28898  101.61648   \n",
       "4    Lay All You   Abba  Rock   6282285.6 -88.952631  27940  100.30076   \n",
       "\n",
       "       LFreq  \n",
       "0   59.57379  \n",
       "1   58.48031  \n",
       "2  124.59397  \n",
       "3   48.76513  \n",
       "4   74.02039  "
      ],
      "text/html": [
       "<div>\n",
       "<style scoped>\n",
       "    .dataframe tbody tr th:only-of-type {\n",
       "        vertical-align: middle;\n",
       "    }\n",
       "\n",
       "    .dataframe tbody tr th {\n",
       "        vertical-align: top;\n",
       "    }\n",
       "\n",
       "    .dataframe thead th {\n",
       "        text-align: right;\n",
       "    }\n",
       "</style>\n",
       "<table border=\"1\" class=\"dataframe\">\n",
       "  <thead>\n",
       "    <tr style=\"text-align: right;\">\n",
       "      <th></th>\n",
       "      <th>Unnamed: 0</th>\n",
       "      <th>Artist</th>\n",
       "      <th>Type</th>\n",
       "      <th>LVar</th>\n",
       "      <th>LAve</th>\n",
       "      <th>LMax</th>\n",
       "      <th>LFEner</th>\n",
       "      <th>LFreq</th>\n",
       "    </tr>\n",
       "  </thead>\n",
       "  <tbody>\n",
       "    <tr>\n",
       "      <th>0</th>\n",
       "      <td>Dancing Queen</td>\n",
       "      <td>Abba</td>\n",
       "      <td>Rock</td>\n",
       "      <td>17600755.6</td>\n",
       "      <td>-90.006867</td>\n",
       "      <td>29921</td>\n",
       "      <td>105.92095</td>\n",
       "      <td>59.57379</td>\n",
       "    </tr>\n",
       "    <tr>\n",
       "      <th>1</th>\n",
       "      <td>Knowing Me</td>\n",
       "      <td>Abba</td>\n",
       "      <td>Rock</td>\n",
       "      <td>9543020.9</td>\n",
       "      <td>-75.766719</td>\n",
       "      <td>27626</td>\n",
       "      <td>102.83616</td>\n",
       "      <td>58.48031</td>\n",
       "    </tr>\n",
       "    <tr>\n",
       "      <th>2</th>\n",
       "      <td>Take a Chance</td>\n",
       "      <td>Abba</td>\n",
       "      <td>Rock</td>\n",
       "      <td>9049481.5</td>\n",
       "      <td>-98.062924</td>\n",
       "      <td>26372</td>\n",
       "      <td>102.32488</td>\n",
       "      <td>124.59397</td>\n",
       "    </tr>\n",
       "    <tr>\n",
       "      <th>3</th>\n",
       "      <td>Mamma Mia</td>\n",
       "      <td>Abba</td>\n",
       "      <td>Rock</td>\n",
       "      <td>7557437.3</td>\n",
       "      <td>-90.471062</td>\n",
       "      <td>28898</td>\n",
       "      <td>101.61648</td>\n",
       "      <td>48.76513</td>\n",
       "    </tr>\n",
       "    <tr>\n",
       "      <th>4</th>\n",
       "      <td>Lay All You</td>\n",
       "      <td>Abba</td>\n",
       "      <td>Rock</td>\n",
       "      <td>6282285.6</td>\n",
       "      <td>-88.952631</td>\n",
       "      <td>27940</td>\n",
       "      <td>100.30076</td>\n",
       "      <td>74.02039</td>\n",
       "    </tr>\n",
       "  </tbody>\n",
       "</table>\n",
       "</div>"
      ]
     },
     "execution_count": 55,
     "metadata": {},
     "output_type": "execute_result"
    }
   ],
   "execution_count": 55
  },
  {
   "metadata": {
    "ExecuteTime": {
     "end_time": "2024-10-17T12:32:05.879584Z",
     "start_time": "2024-10-17T12:32:05.866163Z"
    }
   },
   "cell_type": "code",
   "source": [
    "print(df.info())\n",
    "print(df.shape)\n",
    "print(df.describe)\n",
    "print(df.dtypes)"
   ],
   "id": "30a4a79779227f2",
   "outputs": [
    {
     "name": "stdout",
     "output_type": "stream",
     "text": [
      "<class 'pandas.core.frame.DataFrame'>\n",
      "RangeIndex: 62 entries, 0 to 61\n",
      "Data columns (total 8 columns):\n",
      " #   Column      Non-Null Count  Dtype  \n",
      "---  ------      --------------  -----  \n",
      " 0   Unnamed: 0  62 non-null     object \n",
      " 1   Artist      62 non-null     object \n",
      " 2   Type        62 non-null     object \n",
      " 3   LVar        62 non-null     float64\n",
      " 4   LAve        62 non-null     float64\n",
      " 5   LMax        62 non-null     int64  \n",
      " 6   LFEner      62 non-null     float64\n",
      " 7   LFreq       62 non-null     float64\n",
      "dtypes: float64(4), int64(1), object(3)\n",
      "memory usage: 4.0+ KB\n",
      "None\n",
      "(62, 8)\n",
      "<bound method NDFrame.describe of        Unnamed: 0   Artist       Type        LVar       LAve   LMax  \\\n",
      "0   Dancing Queen     Abba       Rock  17600755.6 -90.006867  29921   \n",
      "1      Knowing Me     Abba       Rock   9543020.9 -75.766719  27626   \n",
      "2   Take a Chance     Abba       Rock   9049481.5 -98.062924  26372   \n",
      "3       Mamma Mia     Abba       Rock   7557437.3 -90.471062  28898   \n",
      "4     Lay All You     Abba       Rock   6282285.6 -88.952631  27940   \n",
      "..            ...      ...        ...         ...        ...    ...   \n",
      "57       Waterloo     Abba       Rock  24898675.9 -93.996187  29830   \n",
      "58            V11  Vivaldi  Classical   1879989.2  12.721337   8601   \n",
      "59            V12  Vivaldi  Classical    737349.6   5.719002   7089   \n",
      "60            V13  Vivaldi  Classical   2865979.9  21.446763  17282   \n",
      "61       Hey Jude  Beatles       Rock   8651854.1  -6.132241  18509   \n",
      "\n",
      "       LFEner      LFreq  \n",
      "0   105.92095   59.57379  \n",
      "1   102.83616   58.48031  \n",
      "2   102.32488  124.59397  \n",
      "3   101.61648   48.76513  \n",
      "4   100.30076   74.02039  \n",
      "..        ...        ...  \n",
      "57  107.73299  146.04306  \n",
      "58  105.81750   58.83780  \n",
      "59  102.92123  175.94562  \n",
      "60  102.11314   61.44533  \n",
      "61   83.88195  219.53773  \n",
      "\n",
      "[62 rows x 8 columns]>\n",
      "Unnamed: 0     object\n",
      "Artist         object\n",
      "Type           object\n",
      "LVar          float64\n",
      "LAve          float64\n",
      "LMax            int64\n",
      "LFEner        float64\n",
      "LFreq         float64\n",
      "dtype: object\n"
     ]
    }
   ],
   "execution_count": 56
  },
  {
   "metadata": {
    "ExecuteTime": {
     "end_time": "2024-10-17T12:32:38.178913Z",
     "start_time": "2024-10-17T12:32:38.172599Z"
    }
   },
   "cell_type": "code",
   "source": [
    "print(df.isnull().sum())\n",
    "df.drop(columns = 'Unnamed: 0', inplace=True)\n",
    "print(df.isnull().sum())\n"
   ],
   "id": "6d55beeeff3d724d",
   "outputs": [
    {
     "name": "stdout",
     "output_type": "stream",
     "text": [
      "Unnamed: 0    0\n",
      "Artist        0\n",
      "Type          0\n",
      "LVar          0\n",
      "LAve          0\n",
      "LMax          0\n",
      "LFEner        0\n",
      "LFreq         0\n",
      "dtype: int64\n",
      "Artist    0\n",
      "Type      0\n",
      "LVar      0\n",
      "LAve      0\n",
      "LMax      0\n",
      "LFEner    0\n",
      "LFreq     0\n",
      "dtype: int64\n"
     ]
    }
   ],
   "execution_count": 58
  },
  {
   "metadata": {},
   "cell_type": "code",
   "outputs": [],
   "execution_count": null,
   "source": "",
   "id": "b8630ff0ead70236"
  },
  {
   "metadata": {
    "ExecuteTime": {
     "end_time": "2024-10-17T12:32:44.122676Z",
     "start_time": "2024-10-17T12:32:44.114462Z"
    }
   },
   "cell_type": "code",
   "source": "df.head()",
   "id": "734cc836b5094cbf",
   "outputs": [
    {
     "data": {
      "text/plain": [
       "  Artist  Type        LVar       LAve   LMax     LFEner      LFreq\n",
       "0   Abba  Rock  17600755.6 -90.006867  29921  105.92095   59.57379\n",
       "1   Abba  Rock   9543020.9 -75.766719  27626  102.83616   58.48031\n",
       "2   Abba  Rock   9049481.5 -98.062924  26372  102.32488  124.59397\n",
       "3   Abba  Rock   7557437.3 -90.471062  28898  101.61648   48.76513\n",
       "4   Abba  Rock   6282285.6 -88.952631  27940  100.30076   74.02039"
      ],
      "text/html": [
       "<div>\n",
       "<style scoped>\n",
       "    .dataframe tbody tr th:only-of-type {\n",
       "        vertical-align: middle;\n",
       "    }\n",
       "\n",
       "    .dataframe tbody tr th {\n",
       "        vertical-align: top;\n",
       "    }\n",
       "\n",
       "    .dataframe thead th {\n",
       "        text-align: right;\n",
       "    }\n",
       "</style>\n",
       "<table border=\"1\" class=\"dataframe\">\n",
       "  <thead>\n",
       "    <tr style=\"text-align: right;\">\n",
       "      <th></th>\n",
       "      <th>Artist</th>\n",
       "      <th>Type</th>\n",
       "      <th>LVar</th>\n",
       "      <th>LAve</th>\n",
       "      <th>LMax</th>\n",
       "      <th>LFEner</th>\n",
       "      <th>LFreq</th>\n",
       "    </tr>\n",
       "  </thead>\n",
       "  <tbody>\n",
       "    <tr>\n",
       "      <th>0</th>\n",
       "      <td>Abba</td>\n",
       "      <td>Rock</td>\n",
       "      <td>17600755.6</td>\n",
       "      <td>-90.006867</td>\n",
       "      <td>29921</td>\n",
       "      <td>105.92095</td>\n",
       "      <td>59.57379</td>\n",
       "    </tr>\n",
       "    <tr>\n",
       "      <th>1</th>\n",
       "      <td>Abba</td>\n",
       "      <td>Rock</td>\n",
       "      <td>9543020.9</td>\n",
       "      <td>-75.766719</td>\n",
       "      <td>27626</td>\n",
       "      <td>102.83616</td>\n",
       "      <td>58.48031</td>\n",
       "    </tr>\n",
       "    <tr>\n",
       "      <th>2</th>\n",
       "      <td>Abba</td>\n",
       "      <td>Rock</td>\n",
       "      <td>9049481.5</td>\n",
       "      <td>-98.062924</td>\n",
       "      <td>26372</td>\n",
       "      <td>102.32488</td>\n",
       "      <td>124.59397</td>\n",
       "    </tr>\n",
       "    <tr>\n",
       "      <th>3</th>\n",
       "      <td>Abba</td>\n",
       "      <td>Rock</td>\n",
       "      <td>7557437.3</td>\n",
       "      <td>-90.471062</td>\n",
       "      <td>28898</td>\n",
       "      <td>101.61648</td>\n",
       "      <td>48.76513</td>\n",
       "    </tr>\n",
       "    <tr>\n",
       "      <th>4</th>\n",
       "      <td>Abba</td>\n",
       "      <td>Rock</td>\n",
       "      <td>6282285.6</td>\n",
       "      <td>-88.952631</td>\n",
       "      <td>27940</td>\n",
       "      <td>100.30076</td>\n",
       "      <td>74.02039</td>\n",
       "    </tr>\n",
       "  </tbody>\n",
       "</table>\n",
       "</div>"
      ]
     },
     "execution_count": 59,
     "metadata": {},
     "output_type": "execute_result"
    }
   ],
   "execution_count": 59
  },
  {
   "metadata": {
    "ExecuteTime": {
     "end_time": "2024-10-17T12:32:47.748980Z",
     "start_time": "2024-10-17T12:32:47.675208Z"
    }
   },
   "cell_type": "code",
   "source": [
    "# Encode the 'Type' column: Classical = 0, Rock = 1\n",
    "df['Type'] = df['Type'].map({'Classical': 0, 'Rock': 1})\n",
    "\n",
    "# Define the features (X) and target (y)\n",
    "X = df[['LVar', 'LAve', 'LMax', 'LFEner', 'LFreq']]  # Features\n",
    "y = df['Type']  # Target (Type: 0=Classical, 1=Rock)\n",
    "\n",
    "# Split the data into training and testing sets\n",
    "X_train, X_test, y_train, y_test = train_test_split(X, y, test_size=0.2, random_state=42)\n",
    "\n",
    "# Initialize the logistic regression model\n",
    "model = LogisticRegression()\n",
    "\n",
    "# Train the model\n",
    "model.fit(X_train, y_train)\n",
    "\n",
    "# Make predictions on the test set\n",
    "y_pred = model.predict(X_test)\n",
    "\n",
    "# Evaluate the model\n",
    "accuracy = accuracy_score(y_test, y_pred)\n",
    "conf_matrix = confusion_matrix(y_test, y_pred)\n",
    "\n",
    "# Print the results\n",
    "print(f\"Accuracy: {accuracy}\")\n",
    "print(\"Confusion Matrix:\")\n",
    "print(conf_matrix)"
   ],
   "id": "9d93cb58c8e91829",
   "outputs": [
    {
     "ename": "ValueError",
     "evalue": "Input y contains NaN.",
     "output_type": "error",
     "traceback": [
      "\u001B[1;31m---------------------------------------------------------------------------\u001B[0m",
      "\u001B[1;31mValueError\u001B[0m                                Traceback (most recent call last)",
      "Cell \u001B[1;32mIn[60], line 15\u001B[0m\n\u001B[0;32m     12\u001B[0m model \u001B[38;5;241m=\u001B[39m LogisticRegression()\n\u001B[0;32m     14\u001B[0m \u001B[38;5;66;03m# Train the model\u001B[39;00m\n\u001B[1;32m---> 15\u001B[0m model\u001B[38;5;241m.\u001B[39mfit(X_train, y_train)\n\u001B[0;32m     17\u001B[0m \u001B[38;5;66;03m# Make predictions on the test set\u001B[39;00m\n\u001B[0;32m     18\u001B[0m y_pred \u001B[38;5;241m=\u001B[39m model\u001B[38;5;241m.\u001B[39mpredict(X_test)\n",
      "File \u001B[1;32mE:\\anaconda3\\Lib\\site-packages\\sklearn\\base.py:1151\u001B[0m, in \u001B[0;36m_fit_context.<locals>.decorator.<locals>.wrapper\u001B[1;34m(estimator, *args, **kwargs)\u001B[0m\n\u001B[0;32m   1144\u001B[0m     estimator\u001B[38;5;241m.\u001B[39m_validate_params()\n\u001B[0;32m   1146\u001B[0m \u001B[38;5;28;01mwith\u001B[39;00m config_context(\n\u001B[0;32m   1147\u001B[0m     skip_parameter_validation\u001B[38;5;241m=\u001B[39m(\n\u001B[0;32m   1148\u001B[0m         prefer_skip_nested_validation \u001B[38;5;129;01mor\u001B[39;00m global_skip_validation\n\u001B[0;32m   1149\u001B[0m     )\n\u001B[0;32m   1150\u001B[0m ):\n\u001B[1;32m-> 1151\u001B[0m     \u001B[38;5;28;01mreturn\u001B[39;00m fit_method(estimator, \u001B[38;5;241m*\u001B[39margs, \u001B[38;5;241m*\u001B[39m\u001B[38;5;241m*\u001B[39mkwargs)\n",
      "File \u001B[1;32mE:\\anaconda3\\Lib\\site-packages\\sklearn\\linear_model\\_logistic.py:1207\u001B[0m, in \u001B[0;36mLogisticRegression.fit\u001B[1;34m(self, X, y, sample_weight)\u001B[0m\n\u001B[0;32m   1204\u001B[0m \u001B[38;5;28;01melse\u001B[39;00m:\n\u001B[0;32m   1205\u001B[0m     _dtype \u001B[38;5;241m=\u001B[39m [np\u001B[38;5;241m.\u001B[39mfloat64, np\u001B[38;5;241m.\u001B[39mfloat32]\n\u001B[1;32m-> 1207\u001B[0m X, y \u001B[38;5;241m=\u001B[39m \u001B[38;5;28mself\u001B[39m\u001B[38;5;241m.\u001B[39m_validate_data(\n\u001B[0;32m   1208\u001B[0m     X,\n\u001B[0;32m   1209\u001B[0m     y,\n\u001B[0;32m   1210\u001B[0m     accept_sparse\u001B[38;5;241m=\u001B[39m\u001B[38;5;124m\"\u001B[39m\u001B[38;5;124mcsr\u001B[39m\u001B[38;5;124m\"\u001B[39m,\n\u001B[0;32m   1211\u001B[0m     dtype\u001B[38;5;241m=\u001B[39m_dtype,\n\u001B[0;32m   1212\u001B[0m     order\u001B[38;5;241m=\u001B[39m\u001B[38;5;124m\"\u001B[39m\u001B[38;5;124mC\u001B[39m\u001B[38;5;124m\"\u001B[39m,\n\u001B[0;32m   1213\u001B[0m     accept_large_sparse\u001B[38;5;241m=\u001B[39msolver \u001B[38;5;129;01mnot\u001B[39;00m \u001B[38;5;129;01min\u001B[39;00m [\u001B[38;5;124m\"\u001B[39m\u001B[38;5;124mliblinear\u001B[39m\u001B[38;5;124m\"\u001B[39m, \u001B[38;5;124m\"\u001B[39m\u001B[38;5;124msag\u001B[39m\u001B[38;5;124m\"\u001B[39m, \u001B[38;5;124m\"\u001B[39m\u001B[38;5;124msaga\u001B[39m\u001B[38;5;124m\"\u001B[39m],\n\u001B[0;32m   1214\u001B[0m )\n\u001B[0;32m   1215\u001B[0m check_classification_targets(y)\n\u001B[0;32m   1216\u001B[0m \u001B[38;5;28mself\u001B[39m\u001B[38;5;241m.\u001B[39mclasses_ \u001B[38;5;241m=\u001B[39m np\u001B[38;5;241m.\u001B[39munique(y)\n",
      "File \u001B[1;32mE:\\anaconda3\\Lib\\site-packages\\sklearn\\base.py:621\u001B[0m, in \u001B[0;36mBaseEstimator._validate_data\u001B[1;34m(self, X, y, reset, validate_separately, cast_to_ndarray, **check_params)\u001B[0m\n\u001B[0;32m    619\u001B[0m         y \u001B[38;5;241m=\u001B[39m check_array(y, input_name\u001B[38;5;241m=\u001B[39m\u001B[38;5;124m\"\u001B[39m\u001B[38;5;124my\u001B[39m\u001B[38;5;124m\"\u001B[39m, \u001B[38;5;241m*\u001B[39m\u001B[38;5;241m*\u001B[39mcheck_y_params)\n\u001B[0;32m    620\u001B[0m     \u001B[38;5;28;01melse\u001B[39;00m:\n\u001B[1;32m--> 621\u001B[0m         X, y \u001B[38;5;241m=\u001B[39m check_X_y(X, y, \u001B[38;5;241m*\u001B[39m\u001B[38;5;241m*\u001B[39mcheck_params)\n\u001B[0;32m    622\u001B[0m     out \u001B[38;5;241m=\u001B[39m X, y\n\u001B[0;32m    624\u001B[0m \u001B[38;5;28;01mif\u001B[39;00m \u001B[38;5;129;01mnot\u001B[39;00m no_val_X \u001B[38;5;129;01mand\u001B[39;00m check_params\u001B[38;5;241m.\u001B[39mget(\u001B[38;5;124m\"\u001B[39m\u001B[38;5;124mensure_2d\u001B[39m\u001B[38;5;124m\"\u001B[39m, \u001B[38;5;28;01mTrue\u001B[39;00m):\n",
      "File \u001B[1;32mE:\\anaconda3\\Lib\\site-packages\\sklearn\\utils\\validation.py:1163\u001B[0m, in \u001B[0;36mcheck_X_y\u001B[1;34m(X, y, accept_sparse, accept_large_sparse, dtype, order, copy, force_all_finite, ensure_2d, allow_nd, multi_output, ensure_min_samples, ensure_min_features, y_numeric, estimator)\u001B[0m\n\u001B[0;32m   1143\u001B[0m     \u001B[38;5;28;01mraise\u001B[39;00m \u001B[38;5;167;01mValueError\u001B[39;00m(\n\u001B[0;32m   1144\u001B[0m         \u001B[38;5;124mf\u001B[39m\u001B[38;5;124m\"\u001B[39m\u001B[38;5;132;01m{\u001B[39;00mestimator_name\u001B[38;5;132;01m}\u001B[39;00m\u001B[38;5;124m requires y to be passed, but the target y is None\u001B[39m\u001B[38;5;124m\"\u001B[39m\n\u001B[0;32m   1145\u001B[0m     )\n\u001B[0;32m   1147\u001B[0m X \u001B[38;5;241m=\u001B[39m check_array(\n\u001B[0;32m   1148\u001B[0m     X,\n\u001B[0;32m   1149\u001B[0m     accept_sparse\u001B[38;5;241m=\u001B[39maccept_sparse,\n\u001B[1;32m   (...)\u001B[0m\n\u001B[0;32m   1160\u001B[0m     input_name\u001B[38;5;241m=\u001B[39m\u001B[38;5;124m\"\u001B[39m\u001B[38;5;124mX\u001B[39m\u001B[38;5;124m\"\u001B[39m,\n\u001B[0;32m   1161\u001B[0m )\n\u001B[1;32m-> 1163\u001B[0m y \u001B[38;5;241m=\u001B[39m _check_y(y, multi_output\u001B[38;5;241m=\u001B[39mmulti_output, y_numeric\u001B[38;5;241m=\u001B[39my_numeric, estimator\u001B[38;5;241m=\u001B[39mestimator)\n\u001B[0;32m   1165\u001B[0m check_consistent_length(X, y)\n\u001B[0;32m   1167\u001B[0m \u001B[38;5;28;01mreturn\u001B[39;00m X, y\n",
      "File \u001B[1;32mE:\\anaconda3\\Lib\\site-packages\\sklearn\\utils\\validation.py:1185\u001B[0m, in \u001B[0;36m_check_y\u001B[1;34m(y, multi_output, y_numeric, estimator)\u001B[0m\n\u001B[0;32m   1183\u001B[0m     estimator_name \u001B[38;5;241m=\u001B[39m _check_estimator_name(estimator)\n\u001B[0;32m   1184\u001B[0m     y \u001B[38;5;241m=\u001B[39m column_or_1d(y, warn\u001B[38;5;241m=\u001B[39m\u001B[38;5;28;01mTrue\u001B[39;00m)\n\u001B[1;32m-> 1185\u001B[0m     _assert_all_finite(y, input_name\u001B[38;5;241m=\u001B[39m\u001B[38;5;124m\"\u001B[39m\u001B[38;5;124my\u001B[39m\u001B[38;5;124m\"\u001B[39m, estimator_name\u001B[38;5;241m=\u001B[39mestimator_name)\n\u001B[0;32m   1186\u001B[0m     _ensure_no_complex_data(y)\n\u001B[0;32m   1187\u001B[0m \u001B[38;5;28;01mif\u001B[39;00m y_numeric \u001B[38;5;129;01mand\u001B[39;00m y\u001B[38;5;241m.\u001B[39mdtype\u001B[38;5;241m.\u001B[39mkind \u001B[38;5;241m==\u001B[39m \u001B[38;5;124m\"\u001B[39m\u001B[38;5;124mO\u001B[39m\u001B[38;5;124m\"\u001B[39m:\n",
      "File \u001B[1;32mE:\\anaconda3\\Lib\\site-packages\\sklearn\\utils\\validation.py:124\u001B[0m, in \u001B[0;36m_assert_all_finite\u001B[1;34m(X, allow_nan, msg_dtype, estimator_name, input_name)\u001B[0m\n\u001B[0;32m    121\u001B[0m \u001B[38;5;28;01mif\u001B[39;00m first_pass_isfinite:\n\u001B[0;32m    122\u001B[0m     \u001B[38;5;28;01mreturn\u001B[39;00m\n\u001B[1;32m--> 124\u001B[0m _assert_all_finite_element_wise(\n\u001B[0;32m    125\u001B[0m     X,\n\u001B[0;32m    126\u001B[0m     xp\u001B[38;5;241m=\u001B[39mxp,\n\u001B[0;32m    127\u001B[0m     allow_nan\u001B[38;5;241m=\u001B[39mallow_nan,\n\u001B[0;32m    128\u001B[0m     msg_dtype\u001B[38;5;241m=\u001B[39mmsg_dtype,\n\u001B[0;32m    129\u001B[0m     estimator_name\u001B[38;5;241m=\u001B[39mestimator_name,\n\u001B[0;32m    130\u001B[0m     input_name\u001B[38;5;241m=\u001B[39minput_name,\n\u001B[0;32m    131\u001B[0m )\n",
      "File \u001B[1;32mE:\\anaconda3\\Lib\\site-packages\\sklearn\\utils\\validation.py:173\u001B[0m, in \u001B[0;36m_assert_all_finite_element_wise\u001B[1;34m(X, xp, allow_nan, msg_dtype, estimator_name, input_name)\u001B[0m\n\u001B[0;32m    156\u001B[0m \u001B[38;5;28;01mif\u001B[39;00m estimator_name \u001B[38;5;129;01mand\u001B[39;00m input_name \u001B[38;5;241m==\u001B[39m \u001B[38;5;124m\"\u001B[39m\u001B[38;5;124mX\u001B[39m\u001B[38;5;124m\"\u001B[39m \u001B[38;5;129;01mand\u001B[39;00m has_nan_error:\n\u001B[0;32m    157\u001B[0m     \u001B[38;5;66;03m# Improve the error message on how to handle missing values in\u001B[39;00m\n\u001B[0;32m    158\u001B[0m     \u001B[38;5;66;03m# scikit-learn.\u001B[39;00m\n\u001B[0;32m    159\u001B[0m     msg_err \u001B[38;5;241m+\u001B[39m\u001B[38;5;241m=\u001B[39m (\n\u001B[0;32m    160\u001B[0m         \u001B[38;5;124mf\u001B[39m\u001B[38;5;124m\"\u001B[39m\u001B[38;5;130;01m\\n\u001B[39;00m\u001B[38;5;132;01m{\u001B[39;00mestimator_name\u001B[38;5;132;01m}\u001B[39;00m\u001B[38;5;124m does not accept missing values\u001B[39m\u001B[38;5;124m\"\u001B[39m\n\u001B[0;32m    161\u001B[0m         \u001B[38;5;124m\"\u001B[39m\u001B[38;5;124m encoded as NaN natively. For supervised learning, you might want\u001B[39m\u001B[38;5;124m\"\u001B[39m\n\u001B[1;32m   (...)\u001B[0m\n\u001B[0;32m    171\u001B[0m         \u001B[38;5;124m\"\u001B[39m\u001B[38;5;124m#estimators-that-handle-nan-values\u001B[39m\u001B[38;5;124m\"\u001B[39m\n\u001B[0;32m    172\u001B[0m     )\n\u001B[1;32m--> 173\u001B[0m \u001B[38;5;28;01mraise\u001B[39;00m \u001B[38;5;167;01mValueError\u001B[39;00m(msg_err)\n",
      "\u001B[1;31mValueError\u001B[0m: Input y contains NaN."
     ]
    }
   ],
   "execution_count": 60
  },
  {
   "metadata": {},
   "cell_type": "markdown",
   "source": [
    "#### 03-LinR_LogR\n",
    "\n",
    "Choose a data set of interest and apply **either** a linear\n",
    "**or** a logistic regression model."
   ],
   "id": "a1be92573f7305e2"
  },
  {
   "metadata": {},
   "cell_type": "code",
   "outputs": [],
   "execution_count": null,
   "source": "# code",
   "id": "7a7078ec7c111366"
  }
 ],
 "metadata": {
  "kernelspec": {
   "display_name": "Python 3",
   "language": "python",
   "name": "python3"
  },
  "language_info": {
   "codemirror_mode": {
    "name": "ipython",
    "version": 2
   },
   "file_extension": ".py",
   "mimetype": "text/x-python",
   "name": "python",
   "nbconvert_exporter": "python",
   "pygments_lexer": "ipython2",
   "version": "2.7.6"
  }
 },
 "nbformat": 4,
 "nbformat_minor": 5
}
