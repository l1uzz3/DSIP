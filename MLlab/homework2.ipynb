#install.packages("dplyr")
#install.packages("caret")
#install.packages("tidyr")
# Load necessary libraries
library(ggplot2)
library(dplyr)
library(caret)
library(tidyr)  
# Task 1: Linear Model for Predicting the Amount of Tip
# Load the dataset with proper delimiter handling
tips <- read.csv("C:/Users/Bilia/Downloads/tips.csv", sep=",", header=TRUE, stringsAsFactors=FALSE)

# If still in one column, split into multiple columns
tips <- tips %>%
  separate(total_bill..tip...sex...smoker...day...time...size., 
           into = c("total_bill", "tip", "sex", "smoker", "day", "time", "size"),
           sep = ",", 
           remove = TRUE)

# Convert necessary columns to numeric
tips$total_bill <- as.numeric(tips$total_bill)
tips$tip <- as.numeric(tips$tip)
tips$size <- as.numeric(tips$size)

# Calculate tip rate
tips$tip_rate <- tips$tip / tips$total_bill

# Check the dataset structure and first few rows
str(tips)
head(tips)



# Verify the calculation
head(tips)

# Convert categorical variables
tips$sex <- as.factor(tips$sex)
tips$smoker <- as.factor(tips$smoker)
tips$day <- as.factor(tips$day)
tips$time <- as.factor(tips$time)
tips$size <- as.numeric(tips$size)

# Summary of data
summary(tips)

# Linear regression model
model <- lm(tip_rate ~ total_bill + sex + smoker + day + time + size, data = tips)

# Summary of the model
summary(model)

# Diagnostics: Residual plot
par(mfrow=c(2,2))
plot(model)
